{
 "cells": [
  {
   "cell_type": "markdown",
   "metadata": {},
   "source": [
    "**Question 7**"
   ]
  },
  {
   "cell_type": "code",
   "execution_count": 470,
   "metadata": {},
   "outputs": [],
   "source": [
    "import numpy as np\n",
    "from scipy.io import loadmat\n",
    "from matplotlib import pyplot as plt\n",
    "import matplotlib.patches as mpatches"
   ]
  },
  {
   "cell_type": "code",
   "execution_count": 421,
   "metadata": {},
   "outputs": [],
   "source": [
    "mdic = loadmat(\"hw02_dataset.mat\")"
   ]
  },
  {
   "cell_type": "code",
   "execution_count": 422,
   "metadata": {},
   "outputs": [],
   "source": [
    "X_trn = mdic[\"X_trn\"]\n",
    "X_tst = mdic[\"X_tst\"]\n",
    "Y_trn = mdic[\"Y_trn\"]\n",
    "Y_tst = mdic[\"Y_tst\"]"
   ]
  },
  {
   "cell_type": "code",
   "execution_count": 423,
   "metadata": {},
   "outputs": [
    {
     "name": "stdout",
     "output_type": "stream",
     "text": [
      "(126, 2) (126, 1) (14, 2) (14, 1)\n"
     ]
    }
   ],
   "source": [
    "print(X_trn.shape, Y_trn.shape , X_tst.shape  , Y_tst.shape)"
   ]
  },
  {
   "cell_type": "markdown",
   "metadata": {},
   "source": [
    "**Sigmoid Function**"
   ]
  },
  {
   "cell_type": "code",
   "execution_count": 424,
   "metadata": {},
   "outputs": [],
   "source": [
    "def sigmoid(z):\n",
    "    return 1 / (1 + np.exp(-z))"
   ]
  },
  {
   "cell_type": "markdown",
   "metadata": {},
   "source": [
    "**Logistic Regression with Gradient Descent Function(Part a)**"
   ]
  },
  {
   "cell_type": "code",
   "execution_count": 425,
   "metadata": {},
   "outputs": [],
   "source": [
    "def fit_log_reg(X , y , lr = 0.001 , max_iters = 1000):\n",
    "    n_samples , n_features = X.shape\n",
    "    # Initializing weights and bias to 0\n",
    "    weights = np.zeros((n_features,1))\n",
    "    bias = 0\n",
    "    \n",
    "    # Gradient Descent\n",
    "    for i in range(max_iters):\n",
    "        z = np.dot(X , weights) + bias\n",
    "        y_hat = sigmoid(z).reshape(n_samples,1)\n",
    "        \n",
    "        dw = (1 / n_samples) * np.dot(X.T , (y_hat - y))\n",
    "        db = (1 / n_samples) * np.sum(y_hat - y)\n",
    "        weights -= (lr * dw)\n",
    "        bias -= lr * db\n",
    "        \n",
    "    return weights , bias"
   ]
  },
  {
   "cell_type": "markdown",
   "metadata": {},
   "source": [
    "**Prediction Function**"
   ]
  },
  {
   "cell_type": "code",
   "execution_count": 426,
   "metadata": {},
   "outputs": [],
   "source": [
    "def predict(X , weights , bias):\n",
    "    \n",
    "    z = np.dot(X , weights) + bias\n",
    "    y_hat = sigmoid(z)\n",
    "    y_hat_class = []\n",
    "    for i in y_hat:\n",
    "        if i>0.5:\n",
    "            y_hat_class.append(1)\n",
    "        else:\n",
    "            y_hat_class.append(0)\n",
    "    \n",
    "    #y_hat_class = [0 if i<=0.5 else 0 for i in y_hat]\n",
    "    \n",
    "    return y_hat_class"
   ]
  },
  {
   "cell_type": "markdown",
   "metadata": {},
   "source": [
    "**Accuracy Function**"
   ]
  },
  {
   "cell_type": "code",
   "execution_count": 427,
   "metadata": {},
   "outputs": [],
   "source": [
    "def accuracy(y_true , y_hat):\n",
    "    y_true = list(y_true.flatten())\n",
    "    matches =0\n",
    "    for i in range(len(y_true)):\n",
    "        if y_true[i] == y_hat[i]:\n",
    "            matches += 1\n",
    "    \n",
    "    return matches/len(y_true)"
   ]
  },
  {
   "cell_type": "markdown",
   "metadata": {},
   "source": [
    "**Running the code on training dataset (Part b)**"
   ]
  },
  {
   "cell_type": "code",
   "execution_count": 428,
   "metadata": {},
   "outputs": [],
   "source": [
    "reg1 = fit_log_reg(X_trn , Y_trn, 0.001 , 10000)"
   ]
  },
  {
   "cell_type": "markdown",
   "metadata": {},
   "source": [
    "**Printing weights and bias values**"
   ]
  },
  {
   "cell_type": "code",
   "execution_count": 429,
   "metadata": {},
   "outputs": [
    {
     "name": "stdout",
     "output_type": "stream",
     "text": [
      "[[ 1.87052543]\n",
      " [-0.40398836]]\n",
      "0.42417768861279515\n"
     ]
    }
   ],
   "source": [
    "w = reg1[0]\n",
    "b = reg1[1]\n",
    "print(w)\n",
    "print(b)"
   ]
  },
  {
   "cell_type": "markdown",
   "metadata": {},
   "source": [
    "**Printing Predicted and Actual Class Labels (Training Data)**"
   ]
  },
  {
   "cell_type": "code",
   "execution_count": 430,
   "metadata": {},
   "outputs": [
    {
     "name": "stdout",
     "output_type": "stream",
     "text": [
      "Predicted Classes (Training Data):\n",
      "[0, 0, 0, 0, 0, 0, 0, 0, 0, 0, 0, 0, 0, 0, 0, 0, 0, 0, 0, 0, 0, 0, 0, 0, 0, 0, 0, 0, 0, 0, 0, 0, 0, 0, 0, 0, 0, 0, 0, 0, 0, 0, 0, 0, 0, 0, 0, 0, 0, 0, 0, 0, 0, 0, 0, 0, 0, 0, 0, 1, 0, 0, 0, 0, 1, 1, 1, 1, 1, 1, 1, 1, 1, 1, 1, 1, 1, 1, 1, 1, 1, 1, 1, 1, 1, 1, 1, 1, 1, 1, 1, 1, 1, 1, 1, 1, 1, 1, 1, 1, 1, 1, 1, 0, 1, 1, 1, 1, 1, 1, 1, 1, 0, 1, 1, 1, 1, 1, 1, 1, 1, 1, 1, 1, 1, 1]\n",
      "Actual Classes (Training Data):\n",
      "[0, 0, 0, 0, 0, 0, 0, 0, 0, 0, 0, 0, 0, 0, 0, 0, 0, 0, 0, 0, 0, 0, 0, 0, 0, 0, 0, 0, 0, 0, 0, 0, 0, 0, 0, 0, 0, 0, 0, 0, 0, 0, 0, 0, 0, 0, 0, 0, 0, 0, 0, 0, 0, 0, 0, 0, 0, 0, 0, 0, 0, 0, 0, 1, 1, 1, 1, 1, 1, 1, 1, 1, 1, 1, 1, 1, 1, 1, 1, 1, 1, 1, 1, 1, 1, 1, 1, 1, 1, 1, 1, 1, 1, 1, 1, 1, 1, 1, 1, 1, 1, 1, 1, 1, 1, 1, 1, 1, 1, 1, 1, 1, 1, 1, 1, 1, 1, 1, 1, 1, 1, 1, 1, 1, 1, 1]\n"
     ]
    }
   ],
   "source": [
    "y_pred = predict(X_trn , w , b)\n",
    "print(\"Predicted Classes (Training Data):\")\n",
    "print(y_pred)\n",
    "print(\"Actual Classes (Training Data):\")\n",
    "print(list(Y_trn.flatten()))"
   ]
  },
  {
   "cell_type": "markdown",
   "metadata": {},
   "source": [
    "**Classification error on training set**"
   ]
  },
  {
   "cell_type": "code",
   "execution_count": 431,
   "metadata": {},
   "outputs": [
    {
     "name": "stdout",
     "output_type": "stream",
     "text": [
      "Accuracy for training data is:  0.9682539682539683\n",
      "Classification Error (Training Data):  0.031746031746031744\n"
     ]
    }
   ],
   "source": [
    "print(\"Accuracy for training data is: \" , accuracy(Y_trn , y_pred))\n",
    "print(\"Classification Error (Training Data): \" , 1 - accuracy(Y_trn , y_pred))"
   ]
  },
  {
   "cell_type": "markdown",
   "metadata": {},
   "source": [
    "**Printing Predicted and Actual Class Labels (Testing Data)**"
   ]
  },
  {
   "cell_type": "code",
   "execution_count": 432,
   "metadata": {},
   "outputs": [
    {
     "name": "stdout",
     "output_type": "stream",
     "text": [
      "Predicted Classes (Test Data):\n",
      "[0, 0, 0, 0, 0, 0, 0, 1, 1, 0, 1, 1, 1, 1]\n",
      "Actual Classes (Test Data):\n",
      "[0, 0, 0, 0, 0, 0, 0, 1, 1, 1, 1, 1, 1, 1]\n"
     ]
    }
   ],
   "source": [
    "y2_pred = predict(X_tst , w ,b)\n",
    "print(\"Predicted Classes (Test Data):\")\n",
    "print(y2_pred)\n",
    "print(\"Actual Classes (Test Data):\")\n",
    "print(list(Y_tst.flatten()))"
   ]
  },
  {
   "cell_type": "markdown",
   "metadata": {},
   "source": [
    "**Classification error on testing set**"
   ]
  },
  {
   "cell_type": "code",
   "execution_count": 433,
   "metadata": {},
   "outputs": [
    {
     "name": "stdout",
     "output_type": "stream",
     "text": [
      "Accuracy for test data is:  0.9285714285714286\n",
      "Classification Error (Test Data):  0.0714285714285714\n"
     ]
    }
   ],
   "source": [
    "print(\"Accuracy for test data is: \" , accuracy(Y_tst , y2_pred))\n",
    "print(\"Classification Error (Test Data): \" , 1 - accuracy(Y_tst , y2_pred))"
   ]
  },
  {
   "cell_type": "markdown",
   "metadata": {},
   "source": [
    "**Plotting the data and decision boundary for testing data**"
   ]
  },
  {
   "cell_type": "code",
   "execution_count": 486,
   "metadata": {},
   "outputs": [
    {
     "data": {
      "text/plain": [
       "Text(0.5, 1.0, 'Testing Data - Logistic Regression')"
      ]
     },
     "execution_count": 486,
     "metadata": {},
     "output_type": "execute_result"
    },
    {
     "data": {
      "image/png": "[encoded data removed]",
      "text/plain": [
       "<Figure size 432x288 with 1 Axes>"
      ]
     },
     "metadata": {
      "needs_background": "light"
     },
     "output_type": "display_data"
    }
   ],
   "source": [
    "for a,class_pt in zip(X_tst , Y_tst):\n",
    "    if class_pt == 1:\n",
    "        plt.scatter(a[0] , a[1] , color = 'blue')\n",
    "    else:\n",
    "        plt.scatter(a[0] , a[1] , color = 'red' )\n",
    "        \n",
    "\n",
    "\n",
    "w1 = w[0][0]\n",
    "w2 = w[1][0]\n",
    "w0 = b\n",
    "db = X_tst.T[0]\n",
    "\n",
    "red_patch = mpatches.Patch(color='red', label='0')\n",
    "blue_patch = mpatches.Patch(color='blue', label='1')\n",
    "\n",
    "decision_boundary = -(w0 + w1 * db)/w2\n",
    "plt.plot(db , decision_boundary , color = 'black')\n",
    "plt.ylim(0,3)\n",
    "plt.xlim(-2,2.5)\n",
    "plt.legend(handles = [red_patch , blue_patch])\n",
    "plt.title(\"Testing Data - Logistic Regression\")"
   ]
  },
  {
   "cell_type": "markdown",
   "metadata": {},
   "source": [
    "**Plotting the data and decision boundary for testing data**"
   ]
  },
  {
   "cell_type": "code",
   "execution_count": 487,
   "metadata": {
    "scrolled": true
   },
   "outputs": [
    {
     "data": {
      "text/plain": [
       "Text(0.5, 1.0, 'Training Data - Logistic Regression')"
      ]
     },
     "execution_count": 487,
     "metadata": {},
     "output_type": "execute_result"
    },
    {
     "data": {
      "image/png": "[encoded data removed]",
      "text/plain": [
       "<Figure size 432x288 with 1 Axes>"
      ]
     },
     "metadata": {
      "needs_background": "light"
     },
     "output_type": "display_data"
    }
   ],
   "source": [
    "for a1,class_pt1 in zip(X_trn , Y_trn):\n",
    "    if class_pt1 == 1:\n",
    "        plt.scatter(a1[0] , a1[1] , color = 'blue')\n",
    "    else:\n",
    "        plt.scatter(a1[0] , a1[1] , color = 'red' )\n",
    "        \n",
    "\n",
    "\n",
    "w11 = w[0][0]\n",
    "w21 = w[1][0]\n",
    "w01 = b\n",
    "db1 = X_trn.T[0]\n",
    "\n",
    "red_patch = mpatches.Patch(color='red', label='0')\n",
    "blue_patch = mpatches.Patch(color='blue', label='1')\n",
    "\n",
    "decision_boundary1 = -(w01 + w11 * db1)/w21\n",
    "plt.plot(db1 , decision_boundary1 , color = 'black')\n",
    "plt.ylim(0,3)\n",
    "plt.xlim(-2,2.5)\n",
    "plt.legend(handles = [red_patch , blue_patch])\n",
    "plt.title(\"Training Data - Logistic Regression\")"
   ]
  },
  {
   "cell_type": "code",
   "execution_count": null,
   "metadata": {},
   "outputs": [],
   "source": []
  }
 ],
 "metadata": {
  "kernelspec": {
   "display_name": "Python 3",
   "language": "python",
   "name": "python3"
  },
  "language_info": {
   "codemirror_mode": {
    "name": "ipython",
    "version": 3
   },
   "file_extension": ".py",
   "mimetype": "text/x-python",
   "name": "python",
   "nbconvert_exporter": "python",
   "pygments_lexer": "ipython3",
   "version": "3.8.3"
  }
 },
 "nbformat": 4,
 "nbformat_minor": 4
}
