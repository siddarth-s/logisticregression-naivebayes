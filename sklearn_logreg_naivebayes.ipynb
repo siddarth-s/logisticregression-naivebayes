{
 "cells": [
  {
   "cell_type": "markdown",
   "metadata": {},
   "source": [
    "**Question 8a**"
   ]
  },
  {
   "cell_type": "code",
   "execution_count": 55,
   "metadata": {},
   "outputs": [],
   "source": [
    "import numpy as np\n",
    "from sklearn import metrics\n",
    "from scipy.io import loadmat\n",
    "from matplotlib import pyplot as plt\n",
    "import matplotlib.patches as mpatches\n",
    "from sklearn.naive_bayes import GaussianNB\n",
    "from sklearn.linear_model import LogisticRegression"
   ]
  },
  {
   "cell_type": "code",
   "execution_count": 4,
   "metadata": {},
   "outputs": [],
   "source": [
    "mdic = loadmat(\"hw02_dataset.mat\")"
   ]
  },
  {
   "cell_type": "code",
   "execution_count": 5,
   "metadata": {},
   "outputs": [],
   "source": [
    "X_trn = mdic[\"X_trn\"]\n",
    "X_tst = mdic[\"X_tst\"]\n",
    "Y_trn = mdic[\"Y_trn\"]\n",
    "Y_tst = mdic[\"Y_tst\"]"
   ]
  },
  {
   "cell_type": "code",
   "execution_count": 7,
   "metadata": {},
   "outputs": [],
   "source": [
    "model = LogisticRegression()\n",
    "model = model.fit(X_trn , Y_trn.ravel())"
   ]
  },
  {
   "cell_type": "code",
   "execution_count": 49,
   "metadata": {},
   "outputs": [
    {
     "name": "stdout",
     "output_type": "stream",
     "text": [
      "Accuracy (training data) is:  0.9682539682539683\n",
      "Classification error on training data is:  0.031746031746031744\n"
     ]
    }
   ],
   "source": [
    "print(\"Accuracy (training data) is: \", model.score(X_trn , Y_trn))\n",
    "print(\"Classification error on training data is: \" , 1-model.score(X_trn , Y_trn))"
   ]
  },
  {
   "cell_type": "code",
   "execution_count": 50,
   "metadata": {},
   "outputs": [
    {
     "name": "stdout",
     "output_type": "stream",
     "text": [
      "Accuracy (testing data) is:  0.9285714285714286\n",
      "Classification error on testing data is:  0.0714285714285714\n"
     ]
    }
   ],
   "source": [
    "print(\"Accuracy (testing data) is: \",model.score(X_tst , Y_tst))\n",
    "print(\"Classification error on testing data is: \" , 1-model.score(X_tst , Y_tst))"
   ]
  },
  {
   "cell_type": "code",
   "execution_count": 53,
   "metadata": {},
   "outputs": [
    {
     "name": "stdout",
     "output_type": "stream",
     "text": [
      "Actual class labels are:\n",
      "[0 0 0 0 0 0 0 1 1 1 1 1 1 1]\n",
      "Predicted class labels are:\n",
      "[0 0 0 0 0 0 0 1 1 0 1 1 1 1]\n"
     ]
    }
   ],
   "source": [
    "predicted = model.predict(X_tst)\n",
    "print(\"Actual class labels (test data) are:\")\n",
    "print(Y_tst.flatten())\n",
    "print(\"Predicted class labels(test data) are:\")\n",
    "print(predicted)"
   ]
  },
  {
   "cell_type": "code",
   "execution_count": 54,
   "metadata": {},
   "outputs": [
    {
     "name": "stdout",
     "output_type": "stream",
     "text": [
      "Actual class labels (training data) are:\n",
      "[0 0 0 0 0 0 0 0 0 0 0 0 0 0 0 0 0 0 0 0 0 0 0 0 0 0 0 0 0 0 0 0 0 0 0 0 0\n",
      " 0 0 0 0 0 0 0 0 0 0 0 0 0 0 0 0 0 0 0 0 0 0 0 0 0 0 1 1 1 1 1 1 1 1 1 1 1\n",
      " 1 1 1 1 1 1 1 1 1 1 1 1 1 1 1 1 1 1 1 1 1 1 1 1 1 1 1 1 1 1 1 1 1 1 1 1 1\n",
      " 1 1 1 1 1 1 1 1 1 1 1 1 1 1 1]\n",
      "Predicted class labels(training data) are:\n",
      "[0 0 0 0 0 0 0 1 0 0 0 0 0 0 0 0 0 0 0 0 0 0 0 0 0 0 0 0 0 0 0 0 0 0 0 0 0\n",
      " 0 0 0 0 0 0 0 0 0 0 0 0 0 0 0 0 0 0 0 0 0 0 1 0 0 0 1 1 1 1 1 1 1 1 1 1 1\n",
      " 1 1 1 1 1 1 1 1 1 1 1 1 1 1 1 1 1 1 1 1 1 1 1 1 1 1 1 1 1 0 1 1 1 1 1 1 1\n",
      " 1 0 1 1 1 1 1 1 1 1 1 1 1 1 1]\n"
     ]
    }
   ],
   "source": [
    "predicted2 = model.predict(X_trn)\n",
    "print(\"Actual class labels (training data) are:\")\n",
    "print(Y_trn.flatten())\n",
    "print(\"Predicted class labels(training data) are:\")\n",
    "print(predicted2)"
   ]
  },
  {
   "cell_type": "markdown",
   "metadata": {},
   "source": [
    "**Plotting the Data**"
   ]
  },
  {
   "cell_type": "code",
   "execution_count": 79,
   "metadata": {
    "scrolled": false
   },
   "outputs": [
    {
     "data": {
      "text/plain": [
       "Text(0.5, 1.0, 'Testing Data - Logistic Regression - SKLearn')"
      ]
     },
     "execution_count": 79,
     "metadata": {},
     "output_type": "execute_result"
    },
    {
     "data": {
      "image/png": "[encoded data removed]",
      "text/plain": [
       "<Figure size 432x288 with 1 Axes>"
      ]
     },
     "metadata": {
      "needs_background": "light"
     },
     "output_type": "display_data"
    }
   ],
   "source": [
    "x_min , x_max = X_trn[:,0].min() - 0.5 , X_trn[:,0].max() + 0.5\n",
    "y_min , y_max = X_trn[:,1].min() - 0.5 , X_trn[:,1].max() + 0.5\n",
    "h = 0.02\n",
    "\n",
    "xx,yy = np.meshgrid(np.arange(x_min,x_max,h) , np.arange(y_min,y_max,h))\n",
    "Z = model.predict(np.c_[xx.ravel() , yy.ravel()])\n",
    "Z = Z.reshape(xx.shape)\n",
    "\n",
    "plt.contour(xx, yy, Z )\n",
    "\n",
    "for a,class_pt in zip(X_tst , Y_tst):\n",
    "    if class_pt == 1:\n",
    "        plt.scatter(a[0] , a[1] , color = 'blue')\n",
    "    else:\n",
    "        plt.scatter(a[0] , a[1] , color = 'red' )\n",
    "        \n",
    "red_patch = mpatches.Patch(color='red', label='0')\n",
    "blue_patch = mpatches.Patch(color='blue', label='1')\n",
    "plt.legend(handles = [red_patch , blue_patch])\n",
    "plt.title(\"Testing Data - Logistic Regression - SKLearn\")"
   ]
  },
  {
   "cell_type": "markdown",
   "metadata": {},
   "source": [
    "**We can see that the classification error on both the training data\n",
    "and testing data are exactly the same in both Question 7 and Question 8. They have values of 0.031746031746031744 for training data and 0.0714285714285714 for testing data. This means that it is highly likely that the learning rate and number of iterations performed in the Scikit-Learn Logistic regression and the Logistic Regression function we defined must be the same or very close to each other.**"
   ]
  },
  {
   "cell_type": "markdown",
   "metadata": {},
   "source": [
    "**Naive Bayes Classifier**"
   ]
  },
  {
   "cell_type": "code",
   "execution_count": 65,
   "metadata": {},
   "outputs": [],
   "source": [
    "gnb = GaussianNB()\n",
    "model_NB = gnb.fit(X_trn , Y_trn.ravel())"
   ]
  },
  {
   "cell_type": "code",
   "execution_count": 68,
   "metadata": {},
   "outputs": [
    {
     "name": "stdout",
     "output_type": "stream",
     "text": [
      "Classification Error on Testing Data is:  0.0714285714285714\n"
     ]
    }
   ],
   "source": [
    "print(\"Classification Error on Testing Data is: \",\n",
    "      1 - model_NB.score(X_tst , Y_tst))"
   ]
  },
  {
   "cell_type": "code",
   "execution_count": 70,
   "metadata": {},
   "outputs": [
    {
     "name": "stdout",
     "output_type": "stream",
     "text": [
      "Classification Error on Training Data is:  0.023809523809523836\n"
     ]
    }
   ],
   "source": [
    "print(\"Classification Error on Training Data is: \",\n",
    "      1 - model_NB.score(X_trn , Y_trn))"
   ]
  },
  {
   "cell_type": "markdown",
   "metadata": {},
   "source": [
    "We can see that the classification error is the same as that for both Question 7 and Question 8a. This is because only 1 point is misclassified from each of the models. We might see slightly different results if we had more test data."
   ]
  },
  {
   "cell_type": "markdown",
   "metadata": {},
   "source": [
    "**Decision Boundary for Naive Bayes Classifier**"
   ]
  },
  {
   "cell_type": "code",
   "execution_count": 80,
   "metadata": {},
   "outputs": [
    {
     "data": {
      "text/plain": [
       "Text(0.5, 1.0, 'Testing Data - Naive Bayes Classifier - SKLearn')"
      ]
     },
     "execution_count": 80,
     "metadata": {},
     "output_type": "execute_result"
    },
    {
     "data": {
      "image/png": "[encoded data removed]",
      "text/plain": [
       "<Figure size 432x288 with 1 Axes>"
      ]
     },
     "metadata": {
      "needs_background": "light"
     },
     "output_type": "display_data"
    }
   ],
   "source": [
    "Z1 = model_NB.predict(np.c_[xx.ravel() , yy.ravel()])\n",
    "Z1 = Z1.reshape(xx.shape)\n",
    "plt.contour(xx, yy, Z1)\n",
    "\n",
    "for a,class_pt in zip(X_tst , Y_tst):\n",
    "    if class_pt == 1:\n",
    "        plt.scatter(a[0] , a[1] , color = 'blue')\n",
    "    else:\n",
    "        plt.scatter(a[0] , a[1] , color = 'red' )\n",
    "        \n",
    "red_patch = mpatches.Patch(color='red', label='0')\n",
    "blue_patch = mpatches.Patch(color='blue', label='1')\n",
    "plt.legend(handles = [red_patch , blue_patch])\n",
    "plt.title(\"Testing Data - Naive Bayes Classifier - SKLearn\")"
   ]
  },
  {
   "cell_type": "code",
   "execution_count": null,
   "metadata": {},
   "outputs": [],
   "source": []
  }
 ],
 "metadata": {
  "kernelspec": {
   "display_name": "Python 3",
   "language": "python",
   "name": "python3"
  },
  "language_info": {
   "codemirror_mode": {
    "name": "ipython",
    "version": 3
   },
   "file_extension": ".py",
   "mimetype": "text/x-python",
   "name": "python",
   "nbconvert_exporter": "python",
   "pygments_lexer": "ipython3",
   "version": "3.8.3"
  }
 },
 "nbformat": 4,
 "nbformat_minor": 4
}
